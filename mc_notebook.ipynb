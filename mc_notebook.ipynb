{
 "metadata": {
  "language_info": {
   "codemirror_mode": {
    "name": "ipython",
    "version": 3
   },
   "file_extension": ".py",
   "mimetype": "text/x-python",
   "name": "python",
   "nbconvert_exporter": "python",
   "pygments_lexer": "ipython3",
   "version": "3.8.2-final"
  },
  "orig_nbformat": 2,
  "kernelspec": {
   "name": "Python 3.8.2 64-bit ('map_gen': conda)",
   "display_name": "Python 3.8.2 64-bit ('map_gen': conda)",
   "metadata": {
    "interpreter": {
     "hash": "083089fd56b4f65e15c5753ecf321d5415084a8e0c43dadb473e65c97115604f"
    }
   }
  }
 },
 "nbformat": 4,
 "nbformat_minor": 2,
 "cells": [
  {
   "source": [
    "# Is socializing a key part of creating AGI?\n",
    "### Resources\n",
    "- https://github.com/openai/gym\n"
   ],
   "cell_type": "markdown",
   "metadata": {}
  },
  {
   "cell_type": "code",
   "execution_count": null,
   "metadata": {},
   "outputs": [],
   "source": []
  }
 ]
}